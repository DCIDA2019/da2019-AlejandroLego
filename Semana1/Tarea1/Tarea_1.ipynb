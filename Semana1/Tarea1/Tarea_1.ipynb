{
 "cells": [
  {
   "cell_type": "markdown",
   "metadata": {},
   "source": [
    "<font size=\"5\">**1. IPython: Beyond Normal Python**</font>\n",
    "    \n",
    "    "
   ]
  },
  {
   "cell_type": "markdown",
   "metadata": {},
   "source": [
    "**Help and Documentation in IPython**\n",
    "\n",
    " En esta sección se explican algunos comandos con los cuales es posible obtener información de algunas funciones predeterminadas, es decir, en caso de tener dudas con algunas funciones predeterminadas en el lenguaje se pude obtener ayuda, no consideré útil colocar la forma en que se implementan estos comandos debido a que en la práctica es cuando surgirán las dudas sobre el uso de ellos."
   ]
  },
  {
   "cell_type": "markdown",
   "metadata": {},
   "source": [
    "**Keyboard Shortcuts in the IPython Shell**\n",
    "\n",
    "Se explican algunos comandos que nunca he utilizado, como para borrar caracteres o cortar y pegar líneas de texto, siempre usanto la tecla ctrl. Debido a la costumrbe que tengo tardaría más en usar esos comandos que haciéndolos de otra manera, lo cierto es que he usado alguno de los comandos mencionados en las secciones como ctrl-l para limpiar la pantalla de la terminal o ctrl-c para interrumpir un comando que actualmente se está ejecutando en Python, generalmente lo uso cuando un comando tardó demasiado en ejecutarse o el programa no responde."
   ]
  },
  {
   "cell_type": "markdown",
   "metadata": {},
   "source": [
    "**IPython Magic Commands**\n",
    "\n",
    "Ha pasado que cuando copio alguno de mis códigos en algún otro archivo de texto para editarlo o cuando copio ejemplos de alguien más para verificar su funcionamiento siempre se tienen errores de sintaxis debido a que la tabulación original no se pega de la manera original, usando la función %paste se pega el código y se ejecuta automáticamente. Una variación del comando anterior es usada para poder decódigo antes de ejecutarse, al menos la función %paste sí puede ser de utilidad.\n",
    "\n",
    "La función %run sirve para ejecutar un programa sin necesidad de abrir una ventana adicional, además, es posible trabajar las funciones dentro del programa ejecutado con %run una vez que se ejecuta una sola vez.\n",
    "\n",
    "Hay funciones usadas para determinar el tiempo de ejecución de una línea de código, pero considero que no será útil para el curso.\n",
    "\n",
    "La conclusión más triste es que no pude ejecutar niguno de estos comandos \"mágicos\", pues al momento de correr el programa maraca error donde se coloca el signo de porcentaje, eventualmente investiagré si ésto es por la versión de Python usada o por un error de escritura."
   ]
  },
  {
   "cell_type": "markdown",
   "metadata": {},
   "source": [
    "**Input and Output History**\n",
    "\n",
    "Estaba interesado en poder observar el registro que se tenía de las entardas y las salidas de un programa, pero al momento de intentar tal cual el ejemplo que venía en esta sección siempre hubo un error, en el cual las funciones In y Out no están definidas en la versión de Python que estoy usando. El ejemplo no lo puedo correr desde la notebook porque se realiza simultáneamente en la terminal, no se lee todo el programa.\n",
    "\n",
    "Algo similar ocurrió con el siguiente ejemplo, en el cual, al colocar print( _ ) (no lleva espacios entre los paréntesis y el guión bajo) sí pude acceder al registro de la última salida obtenida, pero se supone que al colocar más guiones bajos podría acceder a las últimas salidas registradas en el orden inverso en que fueron obtenidas, pero sólo pude obtener la última salida registrada, al querer obtener las anteriores tuve errores en la terminal, en los cuales se indica que no está definido \"__\".\n"
   ]
  },
  {
   "cell_type": "markdown",
   "metadata": {},
   "source": [
    "**IPython and Shell Commands**\n",
    "\n",
    "Se explica el uso de ciertos comandos para dar como salida la dirección en la que se enccuentra actualmente la terminal, ver el contenido de una carpeta, acceder a diferentes directorios, etc. En fin, son comandos que uso mucho al programar, hice un ejemplo de creación de un nuevo directorio para mover un archivo de texto a él, nunca lo había hecho antes. Creé una carpeta llamada Shell y en la misma dirección hice un archivo de tecto vacío con el mismo nombre, lo que hice fue meterme a la carpeta Shell y mover el archivo de tecto dentro de ella.\n",
    "\n",
    "Todos los comandos que son usados para IPython no funcionan en la versión que estoy usando, pero al menos he podido conocer algunas funciones que podrían ser de utilidad en el futuro.\n"
   ]
  },
  {
   "cell_type": "markdown",
   "metadata": {},
   "source": [
    " **Errors and Debugging**\n",
    " \n",
    " El primer apartado de esta sección es acerca de cuando se tiene errores al momento de correr un programa, por defecto se imprimen líneas en las que se explica dónde sucedió el error y cuál fue. Se menciona que hay otras dos maneras de configurar la información que se imprime, o bien se puede tener un reporte más corto del error que se cometió o se puede tener una mayor especificación en los detalles del porqué el programa no puede ejecutarse.  Dado que la configuración predeterminada para los errores resulta útil, no es necesario cambiarla, no por ahora.\n",
    " \n",
    " El segundo apartado tiene ejemplos de cómo depurar un programa en IPython, aunque ciertamente nunca lo he hecho en ninguno de mis programas. Me comprometo a revisar ejemplos en Python para saber más sobre su utilidad.\n",
    "    "
   ]
  },
  {
   "cell_type": "markdown",
   "metadata": {},
   "source": [
    "**Profiling and Timing Code**\n",
    "\n",
    "Nuevamente se tienen comandos usados para revisar los tiempos de ejecución de diferentes comandos, hasta el momento no he usado nunca este tipo de funciones y de acuerdo a los objetivos del curso no parece que vaya a usarse, pero si lo llego a necesitar podría aprender cómo usar los comandos durante la práctica, aunque sólo podría trabajar con los comandos de esta sección en la notebook. "
   ]
  },
  {
   "cell_type": "code",
   "execution_count": 79,
   "metadata": {},
   "outputs": [
    {
     "name": "stdout",
     "output_type": "stream",
     "text": [
      "1.21 ms ± 10.7 µs per loop (mean ± std. dev. of 7 runs, 1000 loops each)\n"
     ]
    }
   ],
   "source": [
    "import random\n",
    "L = [random.random() for i in range(100000)]\n",
    "%timeit L.sort()\n"
   ]
  },
  {
   "cell_type": "markdown",
   "metadata": {},
   "source": [
    "Verifiqué que los comandos de IPython sí funcionan en la notebook, aunque si hay algunos de esos comandos que deban ser usados desde la terminal no podré hacerlos funcionar por aquí. Respecto al \"profiling\", nunca había escuchado de esa función, aunque leí al respecto y se usa para medir tiempos en la memoria así como frecuencias en las funciones del programa."
   ]
  },
  {
   "cell_type": "markdown",
   "metadata": {},
   "source": [
    "**More IPython Resources**\n",
    "\n",
    "\n",
    "Finalmente, se tiene esta sección donde se tienen diferentes enlaces en los que se puede obtener más información acerca de IPython."
   ]
  },
  {
   "cell_type": "markdown",
   "metadata": {},
   "source": [
    "<font size=\"5\">**2.Introduction to NumPy**</font>"
   ]
  },
  {
   "cell_type": "markdown",
   "metadata": {},
   "source": [
    "**Understanding Data Types in Python**\n",
    "\n",
    "Se comienza haciendo notar una de las principales diferencias entre el lenguaje de C y Python, que es el hecho de que en Python no se tiene que especificar el tipo de variable que se usa, simplemente se le asigna a la variable cualquier número o letra o conjunto de letras y no hay ningún error al momento de ejecutar el programa.\n",
    "\n",
    "En Python, al asignar un número entero a una variable no sólo se tiene esa información asignada (el valor del entero), sino también la ubicación del entero en la memoria, el tipo de variable que es una vez realizada la asignación y el tamaño del dato. En C, un entero es una etiqueta a una posición en un espacio de memoria, en Pyhton, es un puntero a un espacio de memoria que contiene información adicional del objeto. Por lo anterior es que no es necesario definir el tipo de variable que se crea.\n",
    "\n",
    "Al crear listas en Python no se restringe a un solo tipo de variable, pues como se mencionó antes, cada uno de los objetos en las listas tiene toda la información acerca de él, como sucede con los enteros. La desventaja es que cuando se tiene una lista con el mismo tipo de variables la información adicional resulta redundante, pero si no es el caso, es mucho más fácil trabajar con diferentes tipos de datos.\n",
    "\n",
    "Se introduce NumPy para crear arreglos de forma más eficiente."
   ]
  },
  {
   "cell_type": "code",
   "execution_count": 2,
   "metadata": {},
   "outputs": [
    {
     "data": {
      "text/plain": [
       "array([ 3,  7, 25, 42])"
      ]
     },
     "execution_count": 2,
     "metadata": {},
     "output_type": "execute_result"
    }
   ],
   "source": [
    "import numpy as np\n",
    "\n",
    "np.array([3, 7, 25, 42])"
   ]
  },
  {
   "cell_type": "markdown",
   "metadata": {},
   "source": [
    "Si uno de los elementos del arreglo es diferente de los otros, entonces NumPy se encarga de que todos sean del mismo tipo, es decir, si entre un grupo de 3 números uno de ellos es del tipo float entonces los números enteros serán escritos como floats.\n",
    "\n",
    "También es muy rápido escribir arreglos de arreglos."
   ]
  },
  {
   "cell_type": "code",
   "execution_count": 81,
   "metadata": {},
   "outputs": [
    {
     "data": {
      "text/plain": [
       "array([[ 1,  2,  3,  4],\n",
       "       [ 3,  4,  5,  6],\n",
       "       [ 5,  6,  7,  8],\n",
       "       [ 7,  8,  9, 10]])"
      ]
     },
     "execution_count": 81,
     "metadata": {},
     "output_type": "execute_result"
    }
   ],
   "source": [
    "np.array([range(i, i + 4) for i in [1, 3, 5, 7]])\n"
   ]
  },
  {
   "cell_type": "markdown",
   "metadata": {},
   "source": [
    "Finalmente se mencionan muchos ejemplos de creación de arreglos usando NumPy. Pongo dos ejemplos usando comandos que me han servido antes.\n"
   ]
  },
  {
   "cell_type": "code",
   "execution_count": 82,
   "metadata": {},
   "outputs": [
    {
     "data": {
      "text/plain": [
       "array([ 0. ,  0.3,  0.6,  0.9,  1.2,  1.5,  1.8,  2.1,  2.4,  2.7,  3. ,\n",
       "        3.3,  3.6,  3.9,  4.2,  4.5,  4.8,  5.1,  5.4,  5.7,  6. ,  6.3,\n",
       "        6.6,  6.9,  7.2,  7.5,  7.8,  8.1,  8.4,  8.7,  9. ,  9.3,  9.6,\n",
       "        9.9, 10.2, 10.5, 10.8, 11.1, 11.4, 11.7, 12. , 12.3, 12.6, 12.9,\n",
       "       13.2, 13.5, 13.8, 14.1, 14.4, 14.7, 15. , 15.3, 15.6, 15.9, 16.2,\n",
       "       16.5, 16.8, 17.1, 17.4, 17.7, 18. , 18.3, 18.6, 18.9, 19.2, 19.5,\n",
       "       19.8, 20.1, 20.4, 20.7, 21. , 21.3, 21.6, 21.9, 22.2, 22.5, 22.8,\n",
       "       23.1, 23.4, 23.7, 24. , 24.3, 24.6, 24.9, 25.2, 25.5, 25.8, 26.1,\n",
       "       26.4, 26.7, 27. , 27.3, 27.6, 27.9, 28.2, 28.5, 28.8, 29.1, 29.4,\n",
       "       29.7])"
      ]
     },
     "execution_count": 82,
     "metadata": {},
     "output_type": "execute_result"
    }
   ],
   "source": [
    "np.arange(0, 30, 0.3)"
   ]
  },
  {
   "cell_type": "code",
   "execution_count": 83,
   "metadata": {},
   "outputs": [
    {
     "data": {
      "text/plain": [
       "array([ 0.        ,  0.3030303 ,  0.60606061,  0.90909091,  1.21212121,\n",
       "        1.51515152,  1.81818182,  2.12121212,  2.42424242,  2.72727273,\n",
       "        3.03030303,  3.33333333,  3.63636364,  3.93939394,  4.24242424,\n",
       "        4.54545455,  4.84848485,  5.15151515,  5.45454545,  5.75757576,\n",
       "        6.06060606,  6.36363636,  6.66666667,  6.96969697,  7.27272727,\n",
       "        7.57575758,  7.87878788,  8.18181818,  8.48484848,  8.78787879,\n",
       "        9.09090909,  9.39393939,  9.6969697 , 10.        , 10.3030303 ,\n",
       "       10.60606061, 10.90909091, 11.21212121, 11.51515152, 11.81818182,\n",
       "       12.12121212, 12.42424242, 12.72727273, 13.03030303, 13.33333333,\n",
       "       13.63636364, 13.93939394, 14.24242424, 14.54545455, 14.84848485,\n",
       "       15.15151515, 15.45454545, 15.75757576, 16.06060606, 16.36363636,\n",
       "       16.66666667, 16.96969697, 17.27272727, 17.57575758, 17.87878788,\n",
       "       18.18181818, 18.48484848, 18.78787879, 19.09090909, 19.39393939,\n",
       "       19.6969697 , 20.        , 20.3030303 , 20.60606061, 20.90909091,\n",
       "       21.21212121, 21.51515152, 21.81818182, 22.12121212, 22.42424242,\n",
       "       22.72727273, 23.03030303, 23.33333333, 23.63636364, 23.93939394,\n",
       "       24.24242424, 24.54545455, 24.84848485, 25.15151515, 25.45454545,\n",
       "       25.75757576, 26.06060606, 26.36363636, 26.66666667, 26.96969697,\n",
       "       27.27272727, 27.57575758, 27.87878788, 28.18181818, 28.48484848,\n",
       "       28.78787879, 29.09090909, 29.39393939, 29.6969697 , 30.        ])"
      ]
     },
     "execution_count": 83,
     "metadata": {},
     "output_type": "execute_result"
    }
   ],
   "source": [
    "np.linspace(0, 30, 100)"
   ]
  },
  {
   "cell_type": "markdown",
   "metadata": {},
   "source": [
    "En lugar de usar los famosos ciclos *for* de C resulta mucho más eficiente el uso de este tipo de arreglos. Incluso la creación de matrices es mucho más rápido usando NumPy, sobre todo proque a través de sus diversas funciones se pueden colocar los límites del arreglo, la cantidad de datos o incluso la distribución de los datos.\n",
    "\n",
    "Se muestar una lista de los tipos de variables que se pueden tener en un arreglo, se pone porque es importante saber cuáles son sus limitaciones dado que en los arreglos se tienen valores del mismo tipo."
   ]
  },
  {
   "cell_type": "markdown",
   "metadata": {},
   "source": [
    "**The Basics of NumPy Arrays**\n",
    "\n",
    "Teniendo un arreglo es posible conocer el número de dimensiones, la forma y el tamaño de él. Tomaré el ejemplo que ponen en el texto, pero haré lo mismo para los 3 arreglos en lugar sólo el último."
   ]
  },
  {
   "cell_type": "code",
   "execution_count": 84,
   "metadata": {},
   "outputs": [
    {
     "name": "stdout",
     "output_type": "stream",
     "text": [
      "x1 ndim:  1\n",
      "x1 shape: (6,)\n",
      "x1 size:  6\n",
      "\n",
      "\n",
      "x2 ndim:  2\n",
      "x2 shape: (3, 4)\n",
      "x2 size:  12\n",
      "\n",
      "\n",
      "x3 ndim:  3\n",
      "x3 shape: (3, 4, 5)\n",
      "x3 size:  60\n",
      "\n",
      "\n",
      "x1 \n",
      " [5 0 3 3 7 9]\n",
      "\n",
      "\n",
      "x2 \n",
      " [[3 5 2 4]\n",
      " [7 6 8 8]\n",
      " [1 6 7 7]]\n",
      "\n",
      "\n",
      "x3 \n",
      " [[[8 1 5 9 8]\n",
      "  [9 4 3 0 3]\n",
      "  [5 0 2 3 8]\n",
      "  [1 3 3 3 7]]\n",
      "\n",
      " [[0 1 9 9 0]\n",
      "  [4 7 3 2 7]\n",
      "  [2 0 0 4 5]\n",
      "  [5 6 8 4 1]]\n",
      "\n",
      " [[4 9 8 1 1]\n",
      "  [7 9 9 3 6]\n",
      "  [7 2 0 3 5]\n",
      "  [9 4 4 6 4]]]\n"
     ]
    }
   ],
   "source": [
    "import numpy as np\n",
    "np.random.seed(0)  # seed for reproducibility\n",
    "\n",
    "x1 = np.random.randint(10, size=6)  # One-dimensional array\n",
    "x2 = np.random.randint(10, size=(3, 4))  # Two-dimensional array\n",
    "x3 = np.random.randint(10, size=(3, 4, 5))  # Three-dimensional array\n",
    "\n",
    "print(\"x1 ndim: \", x1.ndim)\n",
    "print(\"x1 shape:\", x1.shape)\n",
    "print(\"x1 size: \", x1.size)\n",
    "print('\\n')\n",
    "\n",
    "print(\"x2 ndim: \", x2.ndim)\n",
    "print(\"x2 shape:\", x2.shape)\n",
    "print(\"x2 size: \", x2.size)\n",
    "print('\\n')\n",
    "\n",
    "print(\"x3 ndim: \", x3.ndim)\n",
    "print(\"x3 shape:\", x3.shape)\n",
    "print(\"x3 size: \", x3.size)\n",
    "print('\\n')\n",
    "\n",
    "print(\"x1 \\n\", x1)\n",
    "print('\\n')\n",
    "print(\"x2 \\n\", x2)\n",
    "print('\\n')\n",
    "print(\"x3 \\n\", x3)\n"
   ]
  },
  {
   "cell_type": "markdown",
   "metadata": {},
   "source": [
    "Para el caso anterior, la función *randint* ocupa al menos dos parámetros, que son el número que limita el número aleatorio mayor que puede ser generado y el tamaño del arreglo, es decir, cuántos números aleatorios serán generados. También se puede usar *dtype* para conocer el tipo de variable, *itemsize* para saber el tamaño, en bytes, de cada lista; y *nbytes* para saber el tamaño total, en bytes, del arreglo.\n",
    "\n",
    "Cuando se tiene un arreglo linear es fácil acceder a cualquier elemento del arreglo, lo que no sabía es que usando posiciones \"negativas\" se puede acceder a los datos pero en sentido contrario, es decir, desde el último al primero. En matrices también es fácil acceder a los datos, sólo que ahora se requiere poner dos valores de posición en lugar de uno. Modificar valores dentro de un arreglo se realiza de manera similar, sólo que ahora se la asigna un valor a una posición espefícica.\n",
    "\n",
    "Cuando se tiene un arreglo existen formas más rápidas de imprimir sólo los elementos necesarios, por ejemplo, en un arreglo a se pueden colocar números para acceder a las posiciones de la siguiente manera:\n",
    "\n",
    "a[inicio:fin:paso]\n",
    "\n",
    "que no es más que de qué posición se desea comenzar, en qué posición se termina y qué tamaño tiene cada paso, es decir, en cada iteración cuantas posiciones se brincarán de un número a otro. De manera similar se realiza para matrices, sólo que ahora cada grupo de números se separa por comas y se modifican los arreglos por filas y por columnas. Obtener la transpuesta de una matriz puede hacerse rápidamente recordando la forma en que se imprimen en sentido contario los números en un arreglo. Se usará la matriz x2 creada en ejempos anteriores."
   ]
  },
  {
   "cell_type": "code",
   "execution_count": 85,
   "metadata": {},
   "outputs": [
    {
     "data": {
      "text/plain": [
       "array([[3, 5, 2, 4],\n",
       "       [7, 6, 8, 8],\n",
       "       [1, 6, 7, 7]])"
      ]
     },
     "execution_count": 85,
     "metadata": {},
     "output_type": "execute_result"
    }
   ],
   "source": [
    "x2 #Arreglo creado anteriormente\n"
   ]
  },
  {
   "cell_type": "code",
   "execution_count": 86,
   "metadata": {},
   "outputs": [
    {
     "data": {
      "text/plain": [
       "array([[7]])"
      ]
     },
     "execution_count": 86,
     "metadata": {},
     "output_type": "execute_result"
    }
   ],
   "source": [
    "x2[2:, 3:] #De esta manera se accede a un número específico en los arreglos."
   ]
  },
  {
   "cell_type": "code",
   "execution_count": 87,
   "metadata": {},
   "outputs": [
    {
     "data": {
      "text/plain": [
       "array([[3, 5, 2],\n",
       "       [7, 6, 8]])"
      ]
     },
     "execution_count": 87,
     "metadata": {},
     "output_type": "execute_result"
    }
   ],
   "source": [
    "x2[:2, :3] #Así se accede a determinadas columnas y renglones."
   ]
  },
  {
   "cell_type": "code",
   "execution_count": 88,
   "metadata": {},
   "outputs": [
    {
     "data": {
      "text/plain": [
       "array([[7, 7, 6, 1],\n",
       "       [8, 8, 6, 7],\n",
       "       [4, 2, 5, 3]])"
      ]
     },
     "execution_count": 88,
     "metadata": {},
     "output_type": "execute_result"
    }
   ],
   "source": [
    "x2[::-1, ::-1] #Se imprimen todos los números en sentido contrario.1"
   ]
  },
  {
   "cell_type": "markdown",
   "metadata": {},
   "source": [
    "De las matrices se pueden extraer \"sub-matrices\" que no son mas que fragmentos de la matriz original con diferente tamaño. También se pueden copiar matrices.\n",
    "\n",
    "Cuando se tiene un arreglo también se puede reacomodar usando *reshape*, por ejemplo, si se tiene un vector de 10 elementos puedo acomodarlos en una matriz de 2x5 o una de 5x2, aunque personalmente no vería esta opción muy conveniente cuando se trabaje con arreglos de muchos datos, considero que sería mejor crear los arreglos ordenados desde un inicio.\n",
    "\n",
    "*concatenate* es usado para concatenar vectores de las mismas dimensiones. Cuando se tienen dimensiones mixtas, se usa *vstack* para concatenar verticalmente y *hstack* para concatenar horizontalmente.\n",
    "Y así como es posible concatenar, es posible dividir arreglos."
   ]
  },
  {
   "cell_type": "code",
   "execution_count": 89,
   "metadata": {},
   "outputs": [
    {
     "name": "stdout",
     "output_type": "stream",
     "text": [
      "[1 2] [ 3 99] [99  3] [2 1]\n"
     ]
    }
   ],
   "source": [
    "y = [1, 2, 3, 99, 99, 3, 2, 1]\n",
    "y1, y2, y3, y4 = np.split(y, [2, 4, 6]) #Entre los corchetes se define el número de datos que habrá en total de cada división.\n",
    "print(y1, y2, y3, y4)"
   ]
  },
  {
   "cell_type": "markdown",
   "metadata": {},
   "source": [
    "**Computation on NumPy Arrays: Universal Functions**\n",
    "    \n",
    "  Hay funciones que están predeterminadas para realizar operaciones(suma, resta, multiplicación, división, etc.), unas de ellas requieren sólo una entrada mientras que otras requieren dos. También se tiene la función de valor absoluto, que puede aplicarse sin ningún problema a todo un arreglo de valores. Algo importante acerca de la función *abs* es que puede regresar la magnitud de un conjunto de números complejos. Algo que he usado muco anteriormente han sido als funciones trigonométricas, logarítmicas y exponenciales, no sólo en Python sino también en C, por lo que no pondré ninguna aclaración acerca del uso de esas funciones.\n",
    "  \n",
    "  Para programas donde se utilicen matemáticas más avanzadas también se tiene definida la función beta, la función gamma, la función error, entre otras.\n",
    "  \n",
    "  Si se desea evitar la asignación de las salidas de una función en otra línea de código se puede especificar la dirección de la salida usando *out* dentro de los argumentos de la función para especificar dónde se desea la ubicación de las salidas.\n",
    "  \n",
    "  Otras funciones definidas son para sumar o multilpicar todos los elementos de un arreglo, también es posible imprimir un nuevo arreglo que incluya todos los números que se van obteniendo de la suma o la multiplicación con el valor anterior.\n",
    "  \n",
    "  Se pueden multiplicar los elementos, de uno a uno, de dos arreglos usando *outer*. Al final de la sección se incluye un enlace para aprender más acerca de estas funciones."
   ]
  },
  {
   "cell_type": "markdown",
   "metadata": {},
   "source": [
    "**Aggregations: Min, Max, and Everything**\n",
    "\n",
    "Hay otra manera de sumar los valores en una función, que es usando *sum*. La diferencia entre esta función cuando es usada como viene en Python a cuando se implementa usando NumPy es el tiempo de operación, es más rápido. Es posible obtener el valor máximo y mínimo de un arreglo usando *max* y *min*. \n",
    "\n",
    "En arreglos de más dimensiones también es posible usar *sum*, simplemente se hará la suma aritmética de todos los valore dentro de él.\n",
    "    "
   ]
  },
  {
   "cell_type": "code",
   "execution_count": 90,
   "metadata": {},
   "outputs": [
    {
     "name": "stdout",
     "output_type": "stream",
     "text": [
      "[[ 1  2  3  4]\n",
      " [ 3  4  5  6]\n",
      " [ 5  6  7  8]\n",
      " [ 7  8  9 10]]\n"
     ]
    }
   ],
   "source": [
    "ev = np.array([range(i, i + 4) for i in [1, 3, 5, 7]])\n",
    "print(ev)"
   ]
  },
  {
   "cell_type": "code",
   "execution_count": 91,
   "metadata": {},
   "outputs": [
    {
     "data": {
      "text/plain": [
       "88"
      ]
     },
     "execution_count": 91,
     "metadata": {},
     "output_type": "execute_result"
    }
   ],
   "source": [
    "ev.sum()"
   ]
  },
  {
   "cell_type": "markdown",
   "metadata": {},
   "source": [
    "También se puede obtener el valor mínimo y máximo por columna o renglón."
   ]
  },
  {
   "cell_type": "code",
   "execution_count": 92,
   "metadata": {},
   "outputs": [
    {
     "data": {
      "text/plain": [
       "array([1, 2, 3, 4])"
      ]
     },
     "execution_count": 92,
     "metadata": {},
     "output_type": "execute_result"
    }
   ],
   "source": [
    "ev.min(axis = 0) #Mínimo por columna"
   ]
  },
  {
   "cell_type": "code",
   "execution_count": 93,
   "metadata": {},
   "outputs": [
    {
     "data": {
      "text/plain": [
       "array([1, 3, 5, 7])"
      ]
     },
     "execution_count": 93,
     "metadata": {},
     "output_type": "execute_result"
    }
   ],
   "source": [
    "ev.min(axis = 1) #Mínimo por fila"
   ]
  },
  {
   "cell_type": "markdown",
   "metadata": {},
   "source": [
    "Otras funciones usadas son para obtener el producto, la media, la desviación estándar, entre otras, de todo un conjunto de datos."
   ]
  },
  {
   "cell_type": "markdown",
   "metadata": {},
   "source": [
    "**Computation on Arrays: Broadcasting**\n",
    "\n",
    "Se tienen reglas para la interacción entre dos arreglos:\n",
    "\n",
    "**a)** Si se tienen dos arreglos de diferentes dimensiones, la forma del que tenga dimensión menor será ajustada con unos en su lado izquierdo.\n",
    "\n",
    "**b)** Si la forma de los dos arreglos no coincide en ninguna dimensión, el arreglo con forma igual a 1 se forza para coincidir con la otra forma.\n",
    "\n",
    "**c)** Si en cualquier dimensión los tamaños no son iguales y ninguno es igual a 1, se tiene un error."
   ]
  },
  {
   "cell_type": "markdown",
   "metadata": {},
   "source": [
    "**Comparisons, Masks, and Boolean Logic**\n",
    "\n",
    "Los comparadores más usados son: \" =, <, >, <=, >=, !=, == \". Cada uno de ellos tiene su versión con NumPy, la ventaja de usarlos es que pueden ser aplicados en arreglos de cualquier tamaño.\n",
    "\n",
    "Las funciones *any* y *all* son booleanas, se pueden usar en arreglos para ver si se satisface una cuestión lógica en ella, por ejemplo, si en un arreglo existe un valor igual a 7."
   ]
  },
  {
   "cell_type": "code",
   "execution_count": 120,
   "metadata": {},
   "outputs": [
    {
     "data": {
      "text/plain": [
       "True"
      ]
     },
     "execution_count": 120,
     "metadata": {},
     "output_type": "execute_result"
    }
   ],
   "source": [
    "np.any(ev == 7) #En el arreglo creado anteriormente hay al menos un valor igual a 7."
   ]
  },
  {
   "cell_type": "markdown",
   "metadata": {},
   "source": [
    "Al igual que antes, pueden usarse los comparadores en una columa o un renglón específico.\n",
    "\n",
    "Los operadores booleanos son usados también en otros lenguajes de programación, y se usn para poner más de una condición lógica en una misma expresión. "
   ]
  },
  {
   "cell_type": "code",
   "execution_count": 122,
   "metadata": {},
   "outputs": [
    {
     "data": {
      "text/plain": [
       "array([[ True, False,  True,  True],\n",
       "       [False, False, False, False],\n",
       "       [ True, False, False, False]])"
      ]
     },
     "execution_count": 122,
     "metadata": {},
     "output_type": "execute_result"
    }
   ],
   "source": [
    "x2 < 5 #Cuando no se pone otra condición, valúa si la condición se cumple en cada uno de los números del arreglo."
   ]
  },
  {
   "cell_type": "code",
   "execution_count": 124,
   "metadata": {},
   "outputs": [
    {
     "data": {
      "text/plain": [
       "array([3, 5, 2, 4, 1])"
      ]
     },
     "execution_count": 124,
     "metadata": {},
     "output_type": "execute_result"
    }
   ],
   "source": [
    "x2[x2 <= 5] #Se pueden guardar los valores que cumplan una condición en un nuevo arreglo."
   ]
  },
  {
   "cell_type": "markdown",
   "metadata": {},
   "source": [
    "En la última sección se especifican las diferencias entre usar los operadores *& y |* en lugar de *and y or* , dado que nunca he usado estos últimos no vi necesario estudiar esta diferencia, sólo cabe destacar que los primeros operan en los bits del objeto, mientars que los otros, en el objeto completo."
   ]
  },
  {
   "cell_type": "markdown",
   "metadata": {},
   "source": [
    "**Fancy Indexing**\n",
    "\n",
    "En esta sección se estudian otras formas de acceder a la información dentro de los arreglos."
   ]
  },
  {
   "cell_type": "code",
   "execution_count": 128,
   "metadata": {},
   "outputs": [
    {
     "name": "stdout",
     "output_type": "stream",
     "text": [
      "[0 1 2 3 4 5 6 7 8 9]\n"
     ]
    }
   ],
   "source": [
    "ind = np.arange(10)\n",
    "print(ind)"
   ]
  },
  {
   "cell_type": "code",
   "execution_count": 132,
   "metadata": {},
   "outputs": [
    {
     "data": {
      "text/plain": [
       "[4, 2]"
      ]
     },
     "execution_count": 132,
     "metadata": {},
     "output_type": "execute_result"
    }
   ],
   "source": [
    "[ind[4], ind[2]] #Se seleccionan las posiciones de los valores deseados."
   ]
  },
  {
   "cell_type": "code",
   "execution_count": 133,
   "metadata": {},
   "outputs": [
    {
     "data": {
      "text/plain": [
       "array([4, 9, 1])"
      ]
     },
     "execution_count": 133,
     "metadata": {},
     "output_type": "execute_result"
    }
   ],
   "source": [
    "aux = [4, 9, 1] #Se crea un auxiliar con las posiciones deseadas.\n",
    "ind[aux] #Se imprimen las valores en las posiciones deseadas."
   ]
  },
  {
   "cell_type": "code",
   "execution_count": 136,
   "metadata": {},
   "outputs": [
    {
     "data": {
      "text/plain": [
       "array([[4, 7],\n",
       "       [6, 9]])"
      ]
     },
     "execution_count": 136,
     "metadata": {},
     "output_type": "execute_result"
    }
   ],
   "source": [
    "aux = np.array([[4, 7],\n",
    "                [6, 9]]) #Se puede cambiar la forma de los arreglos.\n",
    "ind[aux]"
   ]
  },
  {
   "cell_type": "markdown",
   "metadata": {},
   "source": [
    "Otros ejemplos mostrados son para obtener valores numéricos por columnas y por renglones, que son análogos a los ejemplos que he puesto antes.\n",
    "\n",
    "También, de un arreglo se pueden seleccionar números aleatorios usando *random.choice*.\n",
    "\n",
    "Y, de la manera similar a como se ha hecho antes, se pueden seleccionar posiciones específicas de un arreglo para cambiar su valor."
   ]
  },
  {
   "cell_type": "code",
   "execution_count": 137,
   "metadata": {},
   "outputs": [
    {
     "name": "stdout",
     "output_type": "stream",
     "text": [
      "[ 0  1  2 35  4  5  6 35  8 35]\n"
     ]
    }
   ],
   "source": [
    "aux = [3, 7, 9]\n",
    "ind[aux] = 35\n",
    "print(ind)"
   ]
  },
  {
   "cell_type": "markdown",
   "metadata": {},
   "source": [
    "Entonces, esta sección no es otra cosa sino trabajar con arreglos de forma más rápida y ordenada.\n",
    "\n",
    "El último ejemplo mostrado es importante porque muestra cómo realizar una gráfica, cambiaré la semilla usada para que los datos no sean los mismos."
   ]
  },
  {
   "cell_type": "code",
   "execution_count": 145,
   "metadata": {},
   "outputs": [
    {
     "name": "stderr",
     "output_type": "stream",
     "text": [
      "/home/omar/Documentos/Data/miniconda3/envs/data_main/lib/python3.7/site-packages/ipykernel_launcher.py:15: MatplotlibDeprecationWarning: Passing the drawstyle with the linestyle as a single string is deprecated since Matplotlib 3.1 and support will be removed in 3.3; please pass the drawstyle separately using the drawstyle keyword argument to Line2D or set_drawstyle() method (or ds/set_ds()).\n",
      "  from ipykernel import kernelapp as app\n"
     ]
    },
    {
     "data": {
      "image/png": "[encoded data removed]",
      "text/plain": [
       "<Figure size 432x288 with 1 Axes>"
      ]
     },
     "metadata": {
      "needs_background": "light"
     },
     "output_type": "display_data"
    }
   ],
   "source": [
    "import matplotlib.pyplot as plt\n",
    "\n",
    "np.random.seed(12) #Semilla\n",
    "hist = np.random.randn(100) #100 números aleatorios\n",
    "\n",
    "bins = np.linspace(-5, 5, 15) #Intervalo en el eje x y número de bines, en este caso, 15.\n",
    "counts = np.zeros_like(bins)\n",
    "\n",
    "i = np.searchsorted(bins, hist) #Una vez que se tiene el intervalo y el número de vines, esta función acomoda cada valor en su bin correspondiente.\n",
    "\n",
    "# Cada que se registra un ingreso de un valor a un bin se le suma 1 al bin.\n",
    "np.add.at(counts, i, 1) #\n",
    "\n",
    "#Para graficar, por ahora no puse etiquetas ni realicé otro tipo de ajustes.\n",
    "plt.plot(bins, counts, linestyle='steps');"
   ]
  },
  {
   "cell_type": "markdown",
   "metadata": {},
   "source": [
    "**Sorting Arrays**\n",
    "\n",
    "La sección trata de funciones y métodos usados para acomodar los elementos de un arreglo. El primero de los métodos consiste en realizar algo que en C se conoce como el ordenamiento burbuja, en un método que solamente itera hasta que se han revisado todos los elementos del arreglo.\n"
   ]
  },
  {
   "cell_type": "code",
   "execution_count": 146,
   "metadata": {},
   "outputs": [
    {
     "data": {
      "text/plain": [
       "array([11, 43, 56, 56, 78])"
      ]
     },
     "execution_count": 146,
     "metadata": {},
     "output_type": "execute_result"
    }
   ],
   "source": [
    "def selection_sort(z):\n",
    "    for i in range(len(z)): #Se ejecuta el método hasta que todos los elementos del arreglo han sido revisados.\n",
    "        swap = i + np.argmin(z[i:]) #Se define la posición, que es la del elemento que se revisa en la iteración más la posición del elemento menor del resto del arreglo.\n",
    "        (z[i], z[swap]) = (z[swap], z[i]) #Se reacomoda el vector colocando los números menores en las primeras posiciones consecutivamente.\n",
    "    return z #Se regresa el vector completo reacomodado.\n",
    "\n",
    "z = np.array([11, 56, 43, 56, 78])\n",
    "selection_sort(z)"
   ]
  },
  {
   "cell_type": "markdown",
   "metadata": {},
   "source": [
    "Otro método consiste en realizar un acomodo aleatorio de los valores hasta que se satisfaga que el arreglo esté ordenado."
   ]
  },
  {
   "cell_type": "code",
   "execution_count": 147,
   "metadata": {},
   "outputs": [
    {
     "data": {
      "text/plain": [
       "array([11, 43, 56, 56, 78])"
      ]
     },
     "execution_count": 147,
     "metadata": {},
     "output_type": "execute_result"
    }
   ],
   "source": [
    "def bogosort(z):\n",
    "    while np.any(z[:-1] > z[1:]): #Compara los valores del arreglo con los mismos valores acomodados al revés, si se satisface que nse cumple en todo el vector entonces ya está ordenado el arreglo.\n",
    "        np.random.shuffle(z) #Reacomoda de forma aleatoria los valores del arreglo.\n",
    "    return z\n",
    "\n",
    "z = np.array([11, 56, 43, 56, 78])\n",
    "bogosort(z)"
   ]
  },
  {
   "cell_type": "markdown",
   "metadata": {},
   "source": [
    "En lugar de usar un método se puede usar la función *sort*, que simplifica mucho más el proceso."
   ]
  },
  {
   "cell_type": "code",
   "execution_count": 149,
   "metadata": {},
   "outputs": [
    {
     "data": {
      "text/plain": [
       "array([11, 43, 56, 56, 78])"
      ]
     },
     "execution_count": 149,
     "metadata": {},
     "output_type": "execute_result"
    }
   ],
   "source": [
    "np.sort(z)"
   ]
  },
  {
   "cell_type": "markdown",
   "metadata": {},
   "source": [
    "Hay una función similar, sólo que en lugar de devovler el arreglo ordenado regresa la posición ordenada de los números, siendo la primera posición el número menor y la última, el mayor.\n",
    "Para matrices también se puede usar la misma función para realizar el acomodo, ya sea por renglón o por columna. También se tiene la opción de particionar los arreglos, en el cual se coloca un número que corresponde a la cantidad de números menores del arreglo, los números menores aparecen al inicio de cada uno de los renglones de la matriz y el resto aparecen después, pero ni los números menores ni el resto aparecen ordenados entre ellos. Al final se muestra una aplicación de estas funciones a un caso donde se usan números aleatorios."
   ]
  },
  {
   "cell_type": "markdown",
   "metadata": {},
   "source": [
    "**Structured Data: NumPy's Structured Arrays**\n",
    "\n",
    "Esta sección es muy importante, en especial para mí pues en mis cursos de programación anteriores no se vio con claridad el tema de las clases ni de las estructuras.\n",
    "\n",
    "Haré el ejemplo completo."
   ]
  },
  {
   "cell_type": "code",
   "execution_count": 8,
   "metadata": {},
   "outputs": [
    {
     "name": "stdout",
     "output_type": "stream",
     "text": [
      "[('name', '<U10'), ('age', '<i4'), ('weight', '<f8')]\n"
     ]
    }
   ],
   "source": [
    "name = ['Tom', 'Ed', 'Phil', 'Johnny']\n",
    "age = [52, 45, 57, 40]\n",
    "weight = [47.0, 55.5, 72.0, 91.5]\n",
    "\n",
    "data = np.zeros(4, dtype={'names':('name', 'age', 'weight'),\n",
    "                          'formats':('U10', 'i4', 'f8')}) #10 caracteres, 4-bytes, 8-bytes.\n",
    "print(data.dtype)"
   ]
  },
  {
   "cell_type": "code",
   "execution_count": 9,
   "metadata": {},
   "outputs": [
    {
     "name": "stdout",
     "output_type": "stream",
     "text": [
      "[('Tom', 52, 47. ) ('Ed', 45, 55.5) ('Phil', 57, 72. )\n",
      " ('Johnny', 40, 91.5)]\n"
     ]
    }
   ],
   "source": [
    "data['name'] = name\n",
    "data['age'] = age\n",
    "data['weight'] = weight\n",
    "print(data)"
   ]
  },
  {
   "cell_type": "markdown",
   "metadata": {},
   "source": [
    "Puedo imprimir los datos de una sola \"persona\"."
   ]
  },
  {
   "cell_type": "code",
   "execution_count": 10,
   "metadata": {},
   "outputs": [
    {
     "data": {
      "text/plain": [
       "('Johnny', 40, 91.5)"
      ]
     },
     "execution_count": 10,
     "metadata": {},
     "output_type": "execute_result"
    }
   ],
   "source": [
    "data[3]"
   ]
  },
  {
   "cell_type": "markdown",
   "metadata": {},
   "source": [
    "Puedo imprimir todas las edades:"
   ]
  },
  {
   "cell_type": "code",
   "execution_count": 12,
   "metadata": {},
   "outputs": [
    {
     "data": {
      "text/plain": [
       "array([52, 45, 57, 40], dtype=int32)"
      ]
     },
     "execution_count": 12,
     "metadata": {},
     "output_type": "execute_result"
    }
   ],
   "source": [
    "data['age']"
   ]
  },
  {
   "cell_type": "markdown",
   "metadata": {},
   "source": [
    "Puedo condicionar para imprimir las edades de las personas que pesan más de 50:"
   ]
  },
  {
   "cell_type": "code",
   "execution_count": 14,
   "metadata": {},
   "outputs": [
    {
     "data": {
      "text/plain": [
       "array(['Ed', 'Phil', 'Johnny'], dtype='<U10')"
      ]
     },
     "execution_count": 14,
     "metadata": {},
     "output_type": "execute_result"
    }
   ],
   "source": [
    "data[data['weight'] > 50]['name']"
   ]
  },
  {
   "cell_type": "markdown",
   "metadata": {},
   "source": [
    "Hay formas equivalentes de definir el tipo de variable de cada arreglo:"
   ]
  },
  {
   "cell_type": "code",
   "execution_count": 15,
   "metadata": {},
   "outputs": [
    {
     "data": {
      "text/plain": [
       "dtype([('name', '<U10'), ('age', '<i4'), ('weight', '<f8')])"
      ]
     },
     "execution_count": 15,
     "metadata": {},
     "output_type": "execute_result"
    }
   ],
   "source": [
    "np.dtype({'names':('name', 'age', 'weight'),\n",
    "          'formats':('U10', 'i4', 'f8')})"
   ]
  },
  {
   "cell_type": "code",
   "execution_count": 16,
   "metadata": {},
   "outputs": [
    {
     "data": {
      "text/plain": [
       "dtype([('name', '<U10'), ('age', '<i8'), ('weight', '<f4')])"
      ]
     },
     "execution_count": 16,
     "metadata": {},
     "output_type": "execute_result"
    }
   ],
   "source": [
    "np.dtype({'names':('name', 'age', 'weight'),\n",
    "          'formats':((np.str_, 10), int, np.float32)})"
   ]
  },
  {
   "cell_type": "code",
   "execution_count": 17,
   "metadata": {},
   "outputs": [
    {
     "data": {
      "text/plain": [
       "dtype([('name', 'S10'), ('age', '<i4'), ('weight', '<f8')])"
      ]
     },
     "execution_count": 17,
     "metadata": {},
     "output_type": "execute_result"
    }
   ],
   "source": [
    "np.dtype([('name', 'S10'), ('age', 'i4'), ('weight', 'f8')])"
   ]
  },
  {
   "cell_type": "markdown",
   "metadata": {},
   "source": [
    "En la sección hay una tabla con todos los tipos de variables a los que se puede restringir las entradas en las esctructuras.\n",
    "\n",
    "Esta fue una forma muy sencilla de hacer una estructura, estuve moviendo las diferentes salidas del programa para entender cómo se accede a los datos dentro de ellas."
   ]
  }
 ],
 "metadata": {
  "kernelspec": {
   "display_name": "Python 3",
   "language": "python",
   "name": "python3"
  },
  "language_info": {
   "codemirror_mode": {
    "name": "ipython",
    "version": 3
   },
   "file_extension": ".py",
   "mimetype": "text/x-python",
   "name": "python",
   "nbconvert_exporter": "python",
   "pygments_lexer": "ipython3",
   "version": "3.7.3"
  }
 },
 "nbformat": 4,
 "nbformat_minor": 4
}
