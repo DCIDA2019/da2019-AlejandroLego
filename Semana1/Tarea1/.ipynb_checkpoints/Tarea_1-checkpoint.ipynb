{
 "cells": [
  {
   "cell_type": "markdown",
   "metadata": {},
   "source": [
    "1. IPython: Beyond Normal Python\n",
    "    \n",
    "    "
   ]
  },
  {
   "cell_type": "markdown",
   "metadata": {},
   "source": [
    "Help and Documentation in IPython\n",
    "\n",
    " En esta sección se explican algunos comandos con los cuales es posible obtener información de algunas funciones predeterminadas, es decir, en caso de tener dudas con algunas funciones predeterminadas en el lenguaje se pude obtener ayuda, no consideré útil colocar la forma en que se implementan estos comandos debido a que en la práctica es cuando surgirán las dudas sobre el uso de ellos."
   ]
  },
  {
   "cell_type": "markdown",
   "metadata": {},
   "source": [
    "Keyboard Shortcuts in the IPython Shell\n",
    "\n",
    "Se explican algunos comandos que nunca he utilizado, como para borrar caracteres o cortar y pegar líneas de texto, siempre usanto la tecla ctrl. Debido a la costumrbe que tengo tardaría más en usar esos comandos que haciéndolos de otra manera, lo cierto es que he usado alguno de los comandos mencionados en las secciones como ctrl-l para limpiar la pantalla de la terminal o ctrl-c para interrumpir un comando que actualmente se está ejecutando en Python, generalmente lo uso cuando un comando tardó demasiado en ejecutarse o el programa no responde."
   ]
  },
  {
   "cell_type": "markdown",
   "metadata": {},
   "source": [
    "IPython Magic Commands\n",
    "\n",
    "Ha pasado que cuando copio alguno de mis códigos en algún otro archivo de texto para editarlo o cuando copio ejemplos de alguien más para verificar su funcionamiento siempre se tienen errores de sintaxis debido a que la tabulación original no se pega de la manera original, usando la función %paste se pega el código y se ejecuta automáticamente. Una variación del comando anterior es usada para poder decódigo antes de ejecutarse, al menos la función %paste sí puede ser de utilidad.\n",
    "\n",
    "La función %run sirve para ejecutar un programa sin necesidad de abrir una ventana adicional, además, es posible trabajar las funciones dentro del programa ejecutado con %run una vez que se ejecuta una sola vez.\n",
    "\n",
    "Hay funciones usadas para determinar el tiempo de ejecución de una línea de código, pero considero que no será útil para el curso.\n",
    "\n",
    "La conclusión más triste es que no pude ejecutar niguno de estos comandos \"mágicos\", pues al momento de correr el programa maraca error donde se coloca el signo de porcentaje, eventualmente investiagré si ésto es por la versión de Python usada o por un error de escritura."
   ]
  },
  {
   "cell_type": "markdown",
   "metadata": {},
   "source": [
    "Input and Output History\n",
    "\n",
    "Estaba interesado en poder observar el registro que se tenía de las entardas y las salidas de un programa, pero al momento de intentar tal cual el ejemplo que venía en esta sección siempre hubo un error, en el cual las funciones In y Out no están definidas en la versión de Python que estoy usando. El ejemplo no lo puedo correr desde la notebook porque se realiza simultáneamente en la terminal, no se lee todo el programa.\n",
    "\n",
    "Algo similar ocurrió con el siguiente ejemplo, en el cual, al colocar print( _ ) (no lleva espacios entre los paréntesis y el guión bajo) sí pude acceder al registro de la última salida obtenida, pero se supone que al colocar más guiones bajos podría acceder a las últimas salidas registradas en el orden inverso en que fueron obtenidas, pero sólo pude obtener la última salida registrada, al querer obtener las anteriores tuve errores en la terminal, en los cuales se indica que no está definido \"__\".\n"
   ]
  },
  {
   "cell_type": "markdown",
   "metadata": {},
   "source": [
    "IPython and Shell Commands\n",
    "\n",
    "Se explica el uso de ciertos comandos para dar como salida la dirección en la que se enccuentra actualmente la terminal, ver el contenido de una carpeta, acceder a diferentes directorios, etc. En fin, son comandos que uso mucho al programar, hice un ejemplo de creación de un nuevo directorio para mover un archivo de texto a él, nunca lo había hecho antes.\n",
    "\n",
    "Todos los comandos que son usados para IPython no funcionan en la versión que estoy usando, pero al menos he podido conocer algunas funciones que podrían ser de utilidad en el futuro.\n"
   ]
  },
  {
   "cell_type": "markdown",
   "metadata": {},
   "source": [
    " Errors and Debugging\n",
    " \n",
    "    \n",
    "    "
   ]
  }
 ],
 "metadata": {
  "kernelspec": {
   "display_name": "Python 3",
   "language": "python",
   "name": "python3"
  },
  "language_info": {
   "codemirror_mode": {
    "name": "ipython",
    "version": 3
   },
   "file_extension": ".py",
   "mimetype": "text/x-python",
   "name": "python",
   "nbconvert_exporter": "python",
   "pygments_lexer": "ipython3",
   "version": "3.7.3"
  }
 },
 "nbformat": 4,
 "nbformat_minor": 4
}
