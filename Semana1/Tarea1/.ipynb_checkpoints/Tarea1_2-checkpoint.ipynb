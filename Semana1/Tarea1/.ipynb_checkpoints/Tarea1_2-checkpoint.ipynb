{
 "cells": [
  {
   "cell_type": "markdown",
   "metadata": {},
   "source": [
    "<font size=\"5\">**NumPy y funciones**</font>"
   ]
  },
  {
   "cell_type": "markdown",
   "metadata": {},
   "source": [
    "**Variables**\n",
    "\n",
    "Como en C y C++ se tienen 3 tipos de variables principales: enteras, flotantes y cadenas, que son números enteros, números con parte decimal y letras, respectivamente."
   ]
  },
  {
   "cell_type": "markdown",
   "metadata": {},
   "source": [
    "**Funciones**\n",
    "\n",
    "Para definir una función se realiza lo siguiente:"
   ]
  },
  {
   "cell_type": "code",
   "execution_count": 4,
   "metadata": {},
   "outputs": [],
   "source": [
    "def suma(x, b): # Asignar un nombre a la función y colocar los parámetros que recibirá. Al final de esta línea siempre van dos puntos.\n",
    "    return x + b # Establecer la salida de la función, en este caso, la suma de los dos números que reciba."
   ]
  },
  {
   "cell_type": "markdown",
   "metadata": {},
   "source": [
    "Para llamar a una función basta con colocar el nombre de la función y los datos con los que se va a operar, para la función anterior se requieren sólo 2."
   ]
  },
  {
   "cell_type": "code",
   "execution_count": 5,
   "metadata": {},
   "outputs": [
    {
     "data": {
      "text/plain": [
       "12"
      ]
     },
     "execution_count": 5,
     "metadata": {},
     "output_type": "execute_result"
    }
   ],
   "source": [
    "suma(5, 7) #Suma de ambos números"
   ]
  },
  {
   "cell_type": "markdown",
   "metadata": {},
   "source": [
    "Como en Python no hay restricción respecto al tipo de variable, es decir, en otros lenguajes se define la variable y se especifica de qué tipo es, en Python sólo se define la variable y se le puede asignar cualquier número o cadena; entonces, también puedo usar la función mandando números flotantes."
   ]
  },
  {
   "cell_type": "code",
   "execution_count": 6,
   "metadata": {},
   "outputs": [
    {
     "data": {
      "text/plain": [
       "12.0"
      ]
     },
     "execution_count": 6,
     "metadata": {},
     "output_type": "execute_result"
    }
   ],
   "source": [
    "suma(5.5, 6.5)"
   ]
  },
  {
   "cell_type": "markdown",
   "metadata": {},
   "source": [
    "Cuando en la función se mandan letras como argumento no es posible trabajar con ellas, pues se les debe asignar un valor numérico antes de llamar a la función."
   ]
  },
  {
   "cell_type": "code",
   "execution_count": 11,
   "metadata": {},
   "outputs": [
    {
     "data": {
      "text/plain": [
       "10.200000000000001"
      ]
     },
     "execution_count": 11,
     "metadata": {},
     "output_type": "execute_result"
    }
   ],
   "source": [
    "a = 8.9\n",
    "d = 1.3\n",
    "\n",
    "suma(a, d)"
   ]
  },
  {
   "cell_type": "markdown",
   "metadata": {},
   "source": [
    "También pueden definirse funciones para trabajar con letras."
   ]
  },
  {
   "cell_type": "code",
   "execution_count": 2,
   "metadata": {},
   "outputs": [],
   "source": [
    "def edad():\n",
    "    age = input('¿Qué edad tienes?\\n')\n",
    "    print('Tu tienes' + str(age) + 'años\\n')"
   ]
  },
  {
   "cell_type": "markdown",
   "metadata": {},
   "source": [
    "Para llamar a la función sólo se pone *edad()* en la siguiente línea de código, y en este caso el usuario interactúa con el programa al ingresar un número."
   ]
  },
  {
   "cell_type": "markdown",
   "metadata": {},
   "source": [
    "También se pueden tener funciones dentro de funciones."
   ]
  },
  {
   "cell_type": "code",
   "execution_count": 9,
   "metadata": {},
   "outputs": [
    {
     "data": {
      "text/plain": [
       "5488.000000000001"
      ]
     },
     "execution_count": 9,
     "metadata": {},
     "output_type": "execute_result"
    }
   ],
   "source": [
    "def peso(m):\n",
    "    return 9.8 * m\n",
    "\n",
    "def trabajo(masa, x): #función principal\n",
    "    aux = peso(masa) #se llama a la función auxiliar\n",
    "    return aux * x\n",
    "\n",
    "trabajo(56, 10) #se manda a llamar a la función.\n",
    "    "
   ]
  },
  {
   "cell_type": "markdown",
   "metadata": {},
   "source": [
    "**Listas**\n",
    "\n",
    "Hay diferente formas de hacer arreglos de datos, uno de ellos es la lista. Tiene la característica de que se puede llenar con diferentes tipos de datos.\n",
    "\n",
    "Se pueden llenar cuando se definen."
   ]
  },
  {
   "cell_type": "code",
   "execution_count": 16,
   "metadata": {},
   "outputs": [
    {
     "data": {
      "text/plain": [
       "[1, 2, 3]"
      ]
     },
     "execution_count": 16,
     "metadata": {},
     "output_type": "execute_result"
    }
   ],
   "source": [
    "lista1 = [1, 2, 3]\n",
    "lista1"
   ]
  },
  {
   "cell_type": "markdown",
   "metadata": {},
   "source": [
    "Se pueden agregar más datos, aunque no sean del mismo tipo:"
   ]
  },
  {
   "cell_type": "code",
   "execution_count": 17,
   "metadata": {},
   "outputs": [
    {
     "data": {
      "text/plain": [
       "[1, 2, 3, 'pollo']"
      ]
     },
     "execution_count": 17,
     "metadata": {},
     "output_type": "execute_result"
    }
   ],
   "source": [
    "lista1.append('pollo')\n",
    "lista1"
   ]
  },
  {
   "cell_type": "markdown",
   "metadata": {},
   "source": [
    "También se puede acceder a posiciones específicas dentro de la lista."
   ]
  },
  {
   "cell_type": "code",
   "execution_count": 18,
   "metadata": {},
   "outputs": [
    {
     "data": {
      "text/plain": [
       "'pollo'"
      ]
     },
     "execution_count": 18,
     "metadata": {},
     "output_type": "execute_result"
    }
   ],
   "source": [
    "lista1[3]"
   ]
  },
  {
   "cell_type": "markdown",
   "metadata": {},
   "source": [
    "Otra forma de hacer listas es usando *list*."
   ]
  },
  {
   "cell_type": "code",
   "execution_count": 20,
   "metadata": {},
   "outputs": [
    {
     "data": {
      "text/plain": [
       "[0, 1, 2, 3, 4, 5, 6, 7, 8, 9]"
      ]
     },
     "execution_count": 20,
     "metadata": {},
     "output_type": "execute_result"
    }
   ],
   "source": [
    "lista2 = list(range(10)) #Con list se crea una lista de número enteros comenzando de 0, con range se pone hasta qué valor se llenará lista.\n",
    "lista2"
   ]
  },
  {
   "cell_type": "markdown",
   "metadata": {},
   "source": [
    "Se pueden imprimir valores en un intervalo del arreglo:"
   ]
  },
  {
   "cell_type": "code",
   "execution_count": 22,
   "metadata": {},
   "outputs": [
    {
     "name": "stdout",
     "output_type": "stream",
     "text": [
      "[3, 4, 5, 6]\n"
     ]
    }
   ],
   "source": [
    "print(lista2[3:7])"
   ]
  },
  {
   "cell_type": "markdown",
   "metadata": {},
   "source": [
    "Se pueden imprimir los números antes de una posición:"
   ]
  },
  {
   "cell_type": "code",
   "execution_count": 23,
   "metadata": {},
   "outputs": [
    {
     "name": "stdout",
     "output_type": "stream",
     "text": [
      "[0, 1, 2]\n"
     ]
    }
   ],
   "source": [
    "print(lista2[:3])"
   ]
  },
  {
   "cell_type": "markdown",
   "metadata": {},
   "source": [
    "O después de ésta:"
   ]
  },
  {
   "cell_type": "code",
   "execution_count": 25,
   "metadata": {},
   "outputs": [
    {
     "name": "stdout",
     "output_type": "stream",
     "text": [
      "[3, 4, 5, 6, 7, 8, 9]\n"
     ]
    }
   ],
   "source": [
    "print(lista2[3:])"
   ]
  },
  {
   "cell_type": "markdown",
   "metadata": {},
   "source": [
    "También se puede imprimir el arreglo al revés:"
   ]
  },
  {
   "cell_type": "code",
   "execution_count": 33,
   "metadata": {},
   "outputs": [
    {
     "name": "stdout",
     "output_type": "stream",
     "text": [
      "[9, 8, 7, 6, 5, 4, 3, 2, 1, 0]\n"
     ]
    }
   ],
   "source": [
    "print(lista2[::-1])"
   ]
  },
  {
   "cell_type": "markdown",
   "metadata": {},
   "source": [
    "Se pueden crear listas de datos mixtos."
   ]
  },
  {
   "cell_type": "code",
   "execution_count": 34,
   "metadata": {},
   "outputs": [
    {
     "name": "stdout",
     "output_type": "stream",
     "text": [
      "A baby is 0 years old\n",
      "\n",
      "A teenager is 15 years old\n",
      "\n",
      "A sir is 40 years old\n",
      "\n"
     ]
    }
   ],
   "source": [
    "e = {'baby': 0, 'teenager': 15, 'sir': 40}\n",
    "for person in e:\n",
    "    age = e[person]\n",
    "    print('A %s is %d years old\\n' % (person, age))"
   ]
  },
  {
   "cell_type": "markdown",
   "metadata": {},
   "source": [
    "**NumPy**\n",
    "\n",
    "NumPy tiene muchas funciones predefinidas para objetivos específicos, muchos de los procesos que son tardados al momento de programar se pueden simplificar considerablemente cuando se usan estas funciones, mostraré las más relevantes. Cada que se vaya a usar NumPy es necesario escribir lo siguiente:"
   ]
  },
  {
   "cell_type": "code",
   "execution_count": 35,
   "metadata": {},
   "outputs": [],
   "source": [
    "import numpy as np"
   ]
  },
  {
   "cell_type": "markdown",
   "metadata": {},
   "source": [
    "Con NumPy se pueden crear arreglos, que tienen la característica de que sólo admoten el mismo tipo de datos en cada una de ellas. Si se llenan cuando se definen no hay mucha diferencia con las listas."
   ]
  },
  {
   "cell_type": "code",
   "execution_count": 40,
   "metadata": {},
   "outputs": [
    {
     "data": {
      "text/plain": [
       "array([1, 2, 3, 4, 5, 6])"
      ]
     },
     "execution_count": 40,
     "metadata": {},
     "output_type": "execute_result"
    }
   ],
   "source": [
    "arreglo1 = np.array([1, 2, 3, 4, 5, 6])\n",
    "\n",
    "arreglo1"
   ]
  },
  {
   "cell_type": "code",
   "execution_count": 41,
   "metadata": {},
   "outputs": [
    {
     "data": {
      "text/plain": [
       "6"
      ]
     },
     "execution_count": 41,
     "metadata": {},
     "output_type": "execute_result"
    }
   ],
   "source": [
    "np.size(arreglo1)  #Se puede contar el tamaño del arreglo"
   ]
  },
  {
   "cell_type": "markdown",
   "metadata": {},
   "source": [
    "También se pueden acceder a posiciones dentro del arreglo de manera similar a como se realizó con las listas.\n",
    "\n",
    "NumPy tiene funciones para llenar arreglos con puros unos, con puros ceros o con un solo número, si así se desea. También se pueden crear matrices, que pueden ser idénticas, pueden ser llenadas con valores que se deseen e incluso pueden llenarse con valores aleatorios.\n",
    "\n",
    "Para crear una matriz e hace lo siguiente:"
   ]
  },
  {
   "cell_type": "code",
   "execution_count": 47,
   "metadata": {},
   "outputs": [
    {
     "data": {
      "text/plain": [
       "array([[ 1,  2,  3,  4],\n",
       "       [ 5,  6,  7,  8],\n",
       "       [ 9, 10, 11, 12]])"
      ]
     },
     "execution_count": 47,
     "metadata": {},
     "output_type": "execute_result"
    }
   ],
   "source": [
    "matrix1 = np.array([[1,2,3,4], [5,6,7,8], [9,10,11,12]])\n",
    "matrix1"
   ]
  },
  {
   "cell_type": "markdown",
   "metadata": {},
   "source": [
    "Y para acceder a un valor específico de la matriz se pone la columna y el renglón."
   ]
  },
  {
   "cell_type": "code",
   "execution_count": 50,
   "metadata": {},
   "outputs": [
    {
     "name": "stdout",
     "output_type": "stream",
     "text": [
      "8\n"
     ]
    }
   ],
   "source": [
    "print(matrix1[1, 3]) #Valor en la cuarta columna (3), segundo renglón(1)"
   ]
  },
  {
   "cell_type": "markdown",
   "metadata": {},
   "source": [
    "Otra de las funciones más importantes al usar Numpy es la suma de todos los elementos del arreglo:"
   ]
  },
  {
   "cell_type": "code",
   "execution_count": 52,
   "metadata": {},
   "outputs": [
    {
     "data": {
      "text/plain": [
       "78"
      ]
     },
     "execution_count": 52,
     "metadata": {},
     "output_type": "execute_result"
    }
   ],
   "source": [
    "suma = np.sum(matrix1)\n",
    "suma"
   ]
  },
  {
   "cell_type": "markdown",
   "metadata": {},
   "source": [
    "Finalmente, las funciones matemáticas más usadas como las trigonométricas, el valor absoluto o la función *e* también están definidas."
   ]
  },
  {
   "cell_type": "code",
   "execution_count": 55,
   "metadata": {},
   "outputs": [],
   "source": [
    "a = np.zeros(5)\n",
    "\n",
    "a[0] = np.sin(2)\n",
    "a[1] = np.cos(2)\n",
    "a[2] = np.exp(4)\n",
    "a[3] = np.sqrt(5)\n",
    "a[4] = np.abs(-3)\n"
   ]
  },
  {
   "cell_type": "code",
   "execution_count": 57,
   "metadata": {},
   "outputs": [
    {
     "name": "stdout",
     "output_type": "stream",
     "text": [
      "0.9092974268256817\n",
      "-0.4161468365471424\n",
      "54.598150033144236\n",
      "2.23606797749979\n",
      "3.0\n"
     ]
    }
   ],
   "source": [
    "for i in range(5):\n",
    "    print(a[i])"
   ]
  },
  {
   "cell_type": "code",
   "execution_count": null,
   "metadata": {},
   "outputs": [],
   "source": []
  }
 ],
 "metadata": {
  "kernelspec": {
   "display_name": "Python 3",
   "language": "python",
   "name": "python3"
  },
  "language_info": {
   "codemirror_mode": {
    "name": "ipython",
    "version": 3
   },
   "file_extension": ".py",
   "mimetype": "text/x-python",
   "name": "python",
   "nbconvert_exporter": "python",
   "pygments_lexer": "ipython3",
   "version": "3.7.3"
  }
 },
 "nbformat": 4,
 "nbformat_minor": 4
}
