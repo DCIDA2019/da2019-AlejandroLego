{
 "cells": [
  {
   "cell_type": "markdown",
   "metadata": {},
   "source": [
    "1. IPython: Beyond Normal Python\n",
    "    \n",
    "    "
   ]
  },
  {
   "cell_type": "markdown",
   "metadata": {},
   "source": [
    "Help and Documentation in IPython\n",
    "\n",
    " En esta sección se explican algunos comandos con los cuales es posible obtener información de algunas funciones predeterminadas, es decir, en caso de tener dudas con algunas funciones predeterminadas en el lenguaje se pude obtener ayuda, no consideré útil colocar la forma en que se implementan estos comandos debido a que en la práctica es cuando surgirán las dudas sobre el uso de ellos."
   ]
  },
  {
   "cell_type": "markdown",
   "metadata": {},
   "source": [
    "Keyboard Shortcuts in the IPython Shell\n",
    "\n",
    "Se explican algunos comandos que nunca he utilizado, como para borrar caracteres o cortar y pegar líneas de texto, siempre usanto la tecla ctrl. Debido a la costumrbe que tengo tardaría más en usar esos comandos que haciéndolos de otra manera, lo cierto es que he usado alguno de los comandos mencionados en las secciones como ctrl-l para limpiar la pantalla de la terminal o ctrl-c para interrumpir un comando que actualmente se está ejecutando en Python, generalmente lo uso cuando un comando tardó demasiado en ejecutarse o el programa no responde."
   ]
  },
  {
   "cell_type": "markdown",
   "metadata": {},
   "source": [
    "IPython Magic Commands\n",
    "\n",
    "Ha pasado que cuando copio alguno de mis códigos en algún otro archivo de texto para editarlo o cuando copio ejemplos de alguien más para verificar su funcionamiento siempre se tienen errores de sintaxis debido a que la tabulación original no se pega de la manera original, usando la función %paste se pega el código y se ejecuta automáticamente. Una variación del comando anterior es usada para poder decódigo antes de ejecutarse, al menos la función %paste sí puede ser de utilidad.\n",
    "\n",
    "La función %run sirve para ejecutar un programa sin necesidad de abrir una ventana adicional, además, es posible trabajar las funciones dentro del programa ejecutado con %run una vez que se ejecuta una sola vez.\n",
    "\n",
    "Hay funciones usadas para determinar el tiempo de ejecución de una línea de código, pero considero que no será útil para el curso.\n"
   ]
  },
  {
   "cell_type": "markdown",
   "metadata": {},
   "source": [
    "Input and Output History\n",
    "\n"
   ]
  }
 ],
 "metadata": {
  "kernelspec": {
   "display_name": "Python 3",
   "language": "python",
   "name": "python3"
  },
  "language_info": {
   "codemirror_mode": {
    "name": "ipython",
    "version": 3
   },
   "file_extension": ".py",
   "mimetype": "text/x-python",
   "name": "python",
   "nbconvert_exporter": "python",
   "pygments_lexer": "ipython3",
   "version": "3.7.3"
  }
 },
 "nbformat": 4,
 "nbformat_minor": 4
}
