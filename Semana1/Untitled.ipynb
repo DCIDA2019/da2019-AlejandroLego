{
 "cells": [
  {
   "cell_type": "code",
   "execution_count": 28,
   "metadata": {},
   "outputs": [],
   "source": [
    "import numpy as np\n",
    "import matplotlib.pyplot as plt\n",
    "%matplotlib inline\n",
    "##pylab inline Son estructuras para hacer una secuenacia de cosas\n",
    "from function import f2 as f2s"
   ]
  },
  {
   "cell_type": "code",
   "execution_count": 29,
   "metadata": {},
   "outputs": [
    {
     "data": {
      "image/png": "[encoded data removed]",
      "text/plain": [
       "<Figure size 432x288 with 1 Axes>"
      ]
     },
     "metadata": {
      "needs_background": "light"
     },
     "output_type": "display_data"
    }
   ],
   "source": [
    "x = np.arange(0,10,0.1)\n",
    "y = x**2\n",
    "plt.plot(x,y, label = 'x^2')\n",
    "plt.legend(loc='upper left')\n",
    "plt.savefig('plt1.png')"
   ]
  },
  {
   "cell_type": "code",
   "execution_count": 30,
   "metadata": {},
   "outputs": [],
   "source": [
    "##Funciones"
   ]
  },
  {
   "cell_type": "code",
   "execution_count": 31,
   "metadata": {},
   "outputs": [],
   "source": [
    "f1 = lambda x,y: x**2 + y**2"
   ]
  },
  {
   "cell_type": "code",
   "execution_count": 32,
   "metadata": {},
   "outputs": [
    {
     "name": "stdout",
     "output_type": "stream",
     "text": [
      "[0.0000000e+00 1.0100000e-02 4.1600000e-02 9.8100000e-02 1.8560000e-01\n",
      " 3.1250000e-01 4.8960000e-01 7.3010000e-01 1.0496000e+00 1.4661000e+00\n",
      " 2.0000000e+00 2.6741000e+00 3.5136000e+00 4.5461000e+00 5.8016000e+00\n",
      " 7.3125000e+00 9.1136000e+00 1.1242100e+01 1.3737600e+01 1.6642100e+01\n",
      " 2.0000000e+01 2.3858100e+01 2.8265600e+01 3.3274100e+01 3.8937600e+01\n",
      " 4.5312500e+01 5.2457600e+01 6.0434100e+01 6.9305600e+01 7.9138100e+01\n",
      " 9.0000000e+01 1.0196210e+02 1.1509760e+02 1.2948210e+02 1.4519360e+02\n",
      " 1.6231250e+02 1.8092160e+02 2.0110610e+02 2.2295360e+02 2.4655410e+02\n",
      " 2.7200000e+02 2.9938610e+02 3.2880960e+02 3.6037010e+02 3.9416960e+02\n",
      " 4.3031250e+02 4.6890560e+02 5.1005810e+02 5.5388160e+02 6.0049010e+02\n",
      " 6.5000000e+02 7.0253010e+02 7.5820160e+02 8.1713810e+02 8.7946560e+02\n",
      " 9.4531250e+02 1.0148096e+03 1.0880901e+03 1.1652896e+03 1.2465461e+03\n",
      " 1.3320000e+03 1.4217941e+03 1.5160736e+03 1.6149861e+03 1.7186816e+03\n",
      " 1.8273125e+03 1.9410336e+03 2.0600021e+03 2.1843776e+03 2.3143221e+03\n",
      " 2.4500000e+03 2.5915781e+03 2.7392256e+03 2.8931141e+03 3.0534176e+03\n",
      " 3.2203125e+03 3.3939776e+03 3.5745941e+03 3.7623456e+03 3.9574181e+03\n",
      " 4.1600000e+03 4.3702821e+03 4.5884576e+03 4.8147221e+03 5.0492736e+03\n",
      " 5.2923125e+03 5.5440416e+03 5.8046661e+03 6.0743936e+03 6.3534341e+03\n",
      " 6.6420000e+03 6.9403061e+03 7.2485696e+03 7.5670101e+03 7.8958496e+03\n",
      " 8.2353125e+03 8.5856256e+03 8.9470181e+03 9.3197216e+03 9.7039701e+03]\n"
     ]
    }
   ],
   "source": [
    "z = f1(x,y)\n",
    "print(z)"
   ]
  },
  {
   "cell_type": "code",
   "execution_count": 33,
   "metadata": {},
   "outputs": [],
   "source": [
    "def f2(x,y):\n",
    "    def cuadrado(x_):\n",
    "        return x_ * x_\n",
    "    tmp = cuadrado(x) + cuadrado(y)\n",
    "    return x,y,tmp"
   ]
  },
  {
   "cell_type": "code",
   "execution_count": 34,
   "metadata": {},
   "outputs": [
    {
     "name": "stdout",
     "output_type": "stream",
     "text": [
      "(array([0. , 0.1, 0.2, 0.3, 0.4, 0.5, 0.6, 0.7, 0.8, 0.9, 1. , 1.1, 1.2,\n",
      "       1.3, 1.4, 1.5, 1.6, 1.7, 1.8, 1.9, 2. , 2.1, 2.2, 2.3, 2.4, 2.5,\n",
      "       2.6, 2.7, 2.8, 2.9, 3. , 3.1, 3.2, 3.3, 3.4, 3.5, 3.6, 3.7, 3.8,\n",
      "       3.9, 4. , 4.1, 4.2, 4.3, 4.4, 4.5, 4.6, 4.7, 4.8, 4.9, 5. , 5.1,\n",
      "       5.2, 5.3, 5.4, 5.5, 5.6, 5.7, 5.8, 5.9, 6. , 6.1, 6.2, 6.3, 6.4,\n",
      "       6.5, 6.6, 6.7, 6.8, 6.9, 7. , 7.1, 7.2, 7.3, 7.4, 7.5, 7.6, 7.7,\n",
      "       7.8, 7.9, 8. , 8.1, 8.2, 8.3, 8.4, 8.5, 8.6, 8.7, 8.8, 8.9, 9. ,\n",
      "       9.1, 9.2, 9.3, 9.4, 9.5, 9.6, 9.7, 9.8, 9.9]), array([0.000e+00, 1.000e-02, 4.000e-02, 9.000e-02, 1.600e-01, 2.500e-01,\n",
      "       3.600e-01, 4.900e-01, 6.400e-01, 8.100e-01, 1.000e+00, 1.210e+00,\n",
      "       1.440e+00, 1.690e+00, 1.960e+00, 2.250e+00, 2.560e+00, 2.890e+00,\n",
      "       3.240e+00, 3.610e+00, 4.000e+00, 4.410e+00, 4.840e+00, 5.290e+00,\n",
      "       5.760e+00, 6.250e+00, 6.760e+00, 7.290e+00, 7.840e+00, 8.410e+00,\n",
      "       9.000e+00, 9.610e+00, 1.024e+01, 1.089e+01, 1.156e+01, 1.225e+01,\n",
      "       1.296e+01, 1.369e+01, 1.444e+01, 1.521e+01, 1.600e+01, 1.681e+01,\n",
      "       1.764e+01, 1.849e+01, 1.936e+01, 2.025e+01, 2.116e+01, 2.209e+01,\n",
      "       2.304e+01, 2.401e+01, 2.500e+01, 2.601e+01, 2.704e+01, 2.809e+01,\n",
      "       2.916e+01, 3.025e+01, 3.136e+01, 3.249e+01, 3.364e+01, 3.481e+01,\n",
      "       3.600e+01, 3.721e+01, 3.844e+01, 3.969e+01, 4.096e+01, 4.225e+01,\n",
      "       4.356e+01, 4.489e+01, 4.624e+01, 4.761e+01, 4.900e+01, 5.041e+01,\n",
      "       5.184e+01, 5.329e+01, 5.476e+01, 5.625e+01, 5.776e+01, 5.929e+01,\n",
      "       6.084e+01, 6.241e+01, 6.400e+01, 6.561e+01, 6.724e+01, 6.889e+01,\n",
      "       7.056e+01, 7.225e+01, 7.396e+01, 7.569e+01, 7.744e+01, 7.921e+01,\n",
      "       8.100e+01, 8.281e+01, 8.464e+01, 8.649e+01, 8.836e+01, 9.025e+01,\n",
      "       9.216e+01, 9.409e+01, 9.604e+01, 9.801e+01]), array([0.0000000e+00, 1.0100000e-02, 4.1600000e-02, 9.8100000e-02,\n",
      "       1.8560000e-01, 3.1250000e-01, 4.8960000e-01, 7.3010000e-01,\n",
      "       1.0496000e+00, 1.4661000e+00, 2.0000000e+00, 2.6741000e+00,\n",
      "       3.5136000e+00, 4.5461000e+00, 5.8016000e+00, 7.3125000e+00,\n",
      "       9.1136000e+00, 1.1242100e+01, 1.3737600e+01, 1.6642100e+01,\n",
      "       2.0000000e+01, 2.3858100e+01, 2.8265600e+01, 3.3274100e+01,\n",
      "       3.8937600e+01, 4.5312500e+01, 5.2457600e+01, 6.0434100e+01,\n",
      "       6.9305600e+01, 7.9138100e+01, 9.0000000e+01, 1.0196210e+02,\n",
      "       1.1509760e+02, 1.2948210e+02, 1.4519360e+02, 1.6231250e+02,\n",
      "       1.8092160e+02, 2.0110610e+02, 2.2295360e+02, 2.4655410e+02,\n",
      "       2.7200000e+02, 2.9938610e+02, 3.2880960e+02, 3.6037010e+02,\n",
      "       3.9416960e+02, 4.3031250e+02, 4.6890560e+02, 5.1005810e+02,\n",
      "       5.5388160e+02, 6.0049010e+02, 6.5000000e+02, 7.0253010e+02,\n",
      "       7.5820160e+02, 8.1713810e+02, 8.7946560e+02, 9.4531250e+02,\n",
      "       1.0148096e+03, 1.0880901e+03, 1.1652896e+03, 1.2465461e+03,\n",
      "       1.3320000e+03, 1.4217941e+03, 1.5160736e+03, 1.6149861e+03,\n",
      "       1.7186816e+03, 1.8273125e+03, 1.9410336e+03, 2.0600021e+03,\n",
      "       2.1843776e+03, 2.3143221e+03, 2.4500000e+03, 2.5915781e+03,\n",
      "       2.7392256e+03, 2.8931141e+03, 3.0534176e+03, 3.2203125e+03,\n",
      "       3.3939776e+03, 3.5745941e+03, 3.7623456e+03, 3.9574181e+03,\n",
      "       4.1600000e+03, 4.3702821e+03, 4.5884576e+03, 4.8147221e+03,\n",
      "       5.0492736e+03, 5.2923125e+03, 5.5440416e+03, 5.8046661e+03,\n",
      "       6.0743936e+03, 6.3534341e+03, 6.6420000e+03, 6.9403061e+03,\n",
      "       7.2485696e+03, 7.5670101e+03, 7.8958496e+03, 8.2353125e+03,\n",
      "       8.5856256e+03, 8.9470181e+03, 9.3197216e+03, 9.7039701e+03]))\n"
     ]
    }
   ],
   "source": [
    "z2 = f2(x,y)\n",
    "print(z2)"
   ]
  },
  {
   "cell_type": "code",
   "execution_count": 35,
   "metadata": {},
   "outputs": [
    {
     "data": {
      "text/plain": [
       "array([ True,  True,  True,  True,  True,  True,  True,  True,  True,\n",
       "        True,  True,  True,  True,  True,  True,  True,  True,  True,\n",
       "        True,  True,  True,  True,  True,  True,  True,  True,  True,\n",
       "        True,  True,  True,  True,  True,  True,  True,  True,  True,\n",
       "        True,  True,  True,  True,  True,  True,  True,  True,  True,\n",
       "        True,  True,  True,  True,  True,  True,  True,  True,  True,\n",
       "        True,  True,  True,  True,  True,  True,  True,  True,  True,\n",
       "        True,  True,  True,  True,  True,  True,  True,  True,  True,\n",
       "        True,  True,  True,  True,  True,  True,  True,  True,  True,\n",
       "        True,  True,  True,  True,  True,  True,  True,  True,  True,\n",
       "        True,  True,  True,  True,  True,  True,  True,  True,  True,\n",
       "        True])"
      ]
     },
     "execution_count": 35,
     "metadata": {},
     "output_type": "execute_result"
    }
   ],
   "source": [
    "z==z2[2]"
   ]
  },
  {
   "cell_type": "code",
   "execution_count": 38,
   "metadata": {},
   "outputs": [
    {
     "name": "stdout",
     "output_type": "stream",
     "text": [
      "(array([0. , 0.1, 0.2, 0.3, 0.4, 0.5, 0.6, 0.7, 0.8, 0.9, 1. , 1.1, 1.2,\n",
      "       1.3, 1.4, 1.5, 1.6, 1.7, 1.8, 1.9, 2. , 2.1, 2.2, 2.3, 2.4, 2.5,\n",
      "       2.6, 2.7, 2.8, 2.9, 3. , 3.1, 3.2, 3.3, 3.4, 3.5, 3.6, 3.7, 3.8,\n",
      "       3.9, 4. , 4.1, 4.2, 4.3, 4.4, 4.5, 4.6, 4.7, 4.8, 4.9, 5. , 5.1,\n",
      "       5.2, 5.3, 5.4, 5.5, 5.6, 5.7, 5.8, 5.9, 6. , 6.1, 6.2, 6.3, 6.4,\n",
      "       6.5, 6.6, 6.7, 6.8, 6.9, 7. , 7.1, 7.2, 7.3, 7.4, 7.5, 7.6, 7.7,\n",
      "       7.8, 7.9, 8. , 8.1, 8.2, 8.3, 8.4, 8.5, 8.6, 8.7, 8.8, 8.9, 9. ,\n",
      "       9.1, 9.2, 9.3, 9.4, 9.5, 9.6, 9.7, 9.8, 9.9]), array([0.000e+00, 1.000e-02, 4.000e-02, 9.000e-02, 1.600e-01, 2.500e-01,\n",
      "       3.600e-01, 4.900e-01, 6.400e-01, 8.100e-01, 1.000e+00, 1.210e+00,\n",
      "       1.440e+00, 1.690e+00, 1.960e+00, 2.250e+00, 2.560e+00, 2.890e+00,\n",
      "       3.240e+00, 3.610e+00, 4.000e+00, 4.410e+00, 4.840e+00, 5.290e+00,\n",
      "       5.760e+00, 6.250e+00, 6.760e+00, 7.290e+00, 7.840e+00, 8.410e+00,\n",
      "       9.000e+00, 9.610e+00, 1.024e+01, 1.089e+01, 1.156e+01, 1.225e+01,\n",
      "       1.296e+01, 1.369e+01, 1.444e+01, 1.521e+01, 1.600e+01, 1.681e+01,\n",
      "       1.764e+01, 1.849e+01, 1.936e+01, 2.025e+01, 2.116e+01, 2.209e+01,\n",
      "       2.304e+01, 2.401e+01, 2.500e+01, 2.601e+01, 2.704e+01, 2.809e+01,\n",
      "       2.916e+01, 3.025e+01, 3.136e+01, 3.249e+01, 3.364e+01, 3.481e+01,\n",
      "       3.600e+01, 3.721e+01, 3.844e+01, 3.969e+01, 4.096e+01, 4.225e+01,\n",
      "       4.356e+01, 4.489e+01, 4.624e+01, 4.761e+01, 4.900e+01, 5.041e+01,\n",
      "       5.184e+01, 5.329e+01, 5.476e+01, 5.625e+01, 5.776e+01, 5.929e+01,\n",
      "       6.084e+01, 6.241e+01, 6.400e+01, 6.561e+01, 6.724e+01, 6.889e+01,\n",
      "       7.056e+01, 7.225e+01, 7.396e+01, 7.569e+01, 7.744e+01, 7.921e+01,\n",
      "       8.100e+01, 8.281e+01, 8.464e+01, 8.649e+01, 8.836e+01, 9.025e+01,\n",
      "       9.216e+01, 9.409e+01, 9.604e+01, 9.801e+01]), array([0.0000000e+00, 1.0100000e-02, 4.1600000e-02, 9.8100000e-02,\n",
      "       1.8560000e-01, 3.1250000e-01, 4.8960000e-01, 7.3010000e-01,\n",
      "       1.0496000e+00, 1.4661000e+00, 2.0000000e+00, 2.6741000e+00,\n",
      "       3.5136000e+00, 4.5461000e+00, 5.8016000e+00, 7.3125000e+00,\n",
      "       9.1136000e+00, 1.1242100e+01, 1.3737600e+01, 1.6642100e+01,\n",
      "       2.0000000e+01, 2.3858100e+01, 2.8265600e+01, 3.3274100e+01,\n",
      "       3.8937600e+01, 4.5312500e+01, 5.2457600e+01, 6.0434100e+01,\n",
      "       6.9305600e+01, 7.9138100e+01, 9.0000000e+01, 1.0196210e+02,\n",
      "       1.1509760e+02, 1.2948210e+02, 1.4519360e+02, 1.6231250e+02,\n",
      "       1.8092160e+02, 2.0110610e+02, 2.2295360e+02, 2.4655410e+02,\n",
      "       2.7200000e+02, 2.9938610e+02, 3.2880960e+02, 3.6037010e+02,\n",
      "       3.9416960e+02, 4.3031250e+02, 4.6890560e+02, 5.1005810e+02,\n",
      "       5.5388160e+02, 6.0049010e+02, 6.5000000e+02, 7.0253010e+02,\n",
      "       7.5820160e+02, 8.1713810e+02, 8.7946560e+02, 9.4531250e+02,\n",
      "       1.0148096e+03, 1.0880901e+03, 1.1652896e+03, 1.2465461e+03,\n",
      "       1.3320000e+03, 1.4217941e+03, 1.5160736e+03, 1.6149861e+03,\n",
      "       1.7186816e+03, 1.8273125e+03, 1.9410336e+03, 2.0600021e+03,\n",
      "       2.1843776e+03, 2.3143221e+03, 2.4500000e+03, 2.5915781e+03,\n",
      "       2.7392256e+03, 2.8931141e+03, 3.0534176e+03, 3.2203125e+03,\n",
      "       3.3939776e+03, 3.5745941e+03, 3.7623456e+03, 3.9574181e+03,\n",
      "       4.1600000e+03, 4.3702821e+03, 4.5884576e+03, 4.8147221e+03,\n",
      "       5.0492736e+03, 5.2923125e+03, 5.5440416e+03, 5.8046661e+03,\n",
      "       6.0743936e+03, 6.3534341e+03, 6.6420000e+03, 6.9403061e+03,\n",
      "       7.2485696e+03, 7.5670101e+03, 7.8958496e+03, 8.2353125e+03,\n",
      "       8.5856256e+03, 8.9470181e+03, 9.3197216e+03, 9.7039701e+03]))\n"
     ]
    }
   ],
   "source": [
    "z3 = f2s(x,y)\n",
    "print(z3)"
   ]
  },
  {
   "cell_type": "code",
   "execution_count": null,
   "metadata": {},
   "outputs": [],
   "source": []
  }
 ],
 "metadata": {
  "kernelspec": {
   "display_name": "Python 3",
   "language": "python",
   "name": "python3"
  },
  "language_info": {
   "codemirror_mode": {
    "name": "ipython",
    "version": 3
   },
   "file_extension": ".py",
   "mimetype": "text/x-python",
   "name": "python",
   "nbconvert_exporter": "python",
   "pygments_lexer": "ipython3",
   "version": "3.7.3"
  }
 },
 "nbformat": 4,
 "nbformat_minor": 4
}
